{
 "cells": [
  {
   "cell_type": "code",
   "execution_count": 34,
   "metadata": {},
   "outputs": [],
   "source": [
    "import win32api, win32con, win32gui\n",
    "import ctypes\n",
    "import pygetwindow as gw\n",
    "from PIL import Image, ImageGrab\n",
    "import cv2\n",
    "import numpy as np\n",
    "import pandas as pd\n",
    "import pyautogui\n",
    "from functions import *\n",
    "import time\n",
    "from random import randrange\n",
    "import itertools\n",
    "import math"
   ]
  },
  {
   "cell_type": "code",
   "execution_count": 23,
   "metadata": {},
   "outputs": [],
   "source": [
    "window_size, window_top_left = obtain_window_info()\n",
    "im = take_snippet(window_size,  window_top_left)\n",
    "tile_number = convert_to_numbers(im)"
   ]
  },
  {
   "cell_type": "code",
   "execution_count": 24,
   "metadata": {},
   "outputs": [],
   "source": [
    "unrevealed_tile = np.where(tile_number == 9)"
   ]
  },
  {
   "cell_type": "code",
   "execution_count": 25,
   "metadata": {},
   "outputs": [],
   "source": [
    "linked_groups = [] # list of lists, with each inner list representing the index of the relevant numbered tile\n",
    "# tile index starts with 0\n",
    "\n",
    "# search through unrevealed_tiles to find the linked groups\n",
    "for i in range(len(unrevealed_tile[0])):\n",
    "    square = tile_number[unrevealed_tile[0][i]-1:unrevealed_tile[0][i]+2,\n",
    "                         unrevealed_tile[1][i]-1:unrevealed_tile[1][i]+2\n",
    "                        ]\n",
    "    neighbor_nbr_tile = np.where((square >= 1) & (square <= 8))\n",
    "\n",
    "    if len(neighbor_nbr_tile[0]) > 1:\n",
    "        linked_group = []\n",
    "        index_i = unrevealed_tile[0][i] * tile_number.shape[1] + unrevealed_tile[1][i]\n",
    "        for j in range(len(neighbor_nbr_tile[0])):\n",
    "            index_j = ((neighbor_nbr_tile[0][j] - 1) * tile_number.shape[1]) + \\\n",
    "                      (neighbor_nbr_tile[1][j] - 1) + index_i\n",
    "            linked_group.append(index_j)\n",
    "        linked_groups.append(linked_group)"
   ]
  },
  {
   "cell_type": "code",
   "execution_count": 26,
   "metadata": {},
   "outputs": [],
   "source": [
    "# process the linked groups to get the exhausted linked pairs\n",
    "linked_pairs = []\n",
    "for i in linked_groups:\n",
    "    if len(i) == 2:\n",
    "        if i not in linked_pairs:\n",
    "            linked_pairs.append(i)\n",
    "    if len(i) > 2:\n",
    "        for j in itertools.combinations(i, 2):\n",
    "            k = [j[0], j[1]]\n",
    "            if k not in linked_pairs:\n",
    "                linked_pairs.append(k)"
   ]
  },
  {
   "cell_type": "code",
   "execution_count": 139,
   "metadata": {},
   "outputs": [],
   "source": [
    "i = 0\n",
    "target_group = linked_pairs[0]\n",
    "element_count = len(target_group)\n",
    "cashe_element_unrevealed_tiles = []\n",
    "target_explosive_tiles_count = []\n",
    "for j in target_group:\n",
    "    ### for each element within a group, find all its nbr unrevealed tiles\n",
    "    # find the height and width of the element\n",
    "    height_j = math.floor(j/tile_number.shape[1])\n",
    "    width_j = j % tile_number.shape[1]\n",
    "    # extract the nbr 8 tiles\n",
    "    square = tile_number[height_j-1:height_j+2, width_j-1:width_j+2]\n",
    "    # find the nbr unrevealed tiles and extract their indices\n",
    "    nbr_unrevealed_tiles = np.where(square == 9)\n",
    "    nbr_unrevealed_indices = ((nbr_unrevealed_tiles[0] - 1) * tile_number.shape[1]) + \\\n",
    "                      (nbr_unrevealed_tiles[1] - 1) + j\n",
    "    # cashe the nbr unrevealed tile indices\n",
    "    cashe_element_unrevealed_tiles.append(nbr_unrevealed_indices)\n",
    "    \n",
    "    ### fine the target number of explosives for each element\n",
    "    target_number = tile_number[height_j, width_j] - len(np.where(square == 11)[0])\n",
    "    target_explosive_tiles_count.append(target_number)\n",
    "\n",
    "### get the unique nbr unrevealed tile indices\n",
    "unique_nbr_unrevealed_indices = [index for element in cashe_element_unrevealed_tiles \\\n",
    "                                 for index in element]\n",
    "unique_nbr_unrevealed_indices = list(set(unique_nbr_unrevealed_indices))\n",
    "unique_nbr_unrevealed_indices.sort()\n",
    "\n",
    "### convert the indices in cashe_element_unrevealed_tiles from the indices of the map \n",
    "#   to indices (or positions to make distinguishing easier) \n",
    "#   of the unique_nbr_unrevealed_indices\n",
    "cashe_element_unrevealed_pos = []\n",
    "for j in cashe_element_unrevealed_tiles:\n",
    "    temp = []\n",
    "    for k in j:\n",
    "        temp.append(unique_nbr_unrevealed_indices.index(k))    \n",
    "    cashe_element_unrevealed_pos.append(temp)\n",
    "\n",
    "### get all combination of 1's and 0's to represent whether or not each unreavealed tile is explosive \n",
    "explosive_combinations = list(itertools.product([0, 1], repeat=len(unique_nbr_unrevealed_indices)))\n",
    "\n",
    "scenorios = []\n",
    "### generate the number of neighboring bomb for each element for each scenario\n",
    "# for idx,val in enumerate(explosive_combinations):\n",
    "for scenario in explosive_combinations:\n",
    "    temp = []\n",
    "    for j in cashe_element_unrevealed_pos:\n",
    "        explosive_count = sum([scenario[index] for index in j])\n",
    "        temp.append(explosive_count)\n",
    "    scenorios.append(temp)"
   ]
  },
  {
   "cell_type": "code",
   "execution_count": 128,
   "metadata": {},
   "outputs": [],
   "source": [
    "jj = explosive_combinations[50]"
   ]
  },
  {
   "cell_type": "code",
   "execution_count": 131,
   "metadata": {},
   "outputs": [],
   "source": [
    "selected_elements = [jj[index] for index in [0, 1, 2, 4, 5]]\n",
    "# jj[[0, 1, 2, 4, 5]]"
   ]
  },
  {
   "cell_type": "code",
   "execution_count": 140,
   "metadata": {},
   "outputs": [
    {
     "data": {
      "text/plain": [
       "[2.0, 1.0]"
      ]
     },
     "execution_count": 140,
     "metadata": {},
     "output_type": "execute_result"
    }
   ],
   "source": [
    "target_explosive_tiles_count"
   ]
  },
  {
   "cell_type": "code",
   "execution_count": 135,
   "metadata": {},
   "outputs": [
    {
     "data": {
      "text/plain": [
       "[[0, 0],\n",
       " [1, 0],\n",
       " [1, 0],\n",
       " [2, 0],\n",
       " [0, 1],\n",
       " [1, 1],\n",
       " [1, 1],\n",
       " [2, 1],\n",
       " [1, 1],\n",
       " [2, 1],\n",
       " [2, 1],\n",
       " [3, 1],\n",
       " [1, 2],\n",
       " [2, 2],\n",
       " [2, 2],\n",
       " [3, 2],\n",
       " [1, 1],\n",
       " [2, 1],\n",
       " [2, 1],\n",
       " [3, 1],\n",
       " [1, 2],\n",
       " [2, 2],\n",
       " [2, 2],\n",
       " [3, 2],\n",
       " [2, 2],\n",
       " [3, 2],\n",
       " [3, 2],\n",
       " [4, 2],\n",
       " [2, 3],\n",
       " [3, 3],\n",
       " [3, 3],\n",
       " [4, 3],\n",
       " [1, 0],\n",
       " [2, 0],\n",
       " [2, 0],\n",
       " [3, 0],\n",
       " [1, 1],\n",
       " [2, 1],\n",
       " [2, 1],\n",
       " [3, 1],\n",
       " [2, 1],\n",
       " [3, 1],\n",
       " [3, 1],\n",
       " [4, 1],\n",
       " [2, 2],\n",
       " [3, 2],\n",
       " [3, 2],\n",
       " [4, 2],\n",
       " [2, 1],\n",
       " [3, 1],\n",
       " [3, 1],\n",
       " [4, 1],\n",
       " [2, 2],\n",
       " [3, 2],\n",
       " [3, 2],\n",
       " [4, 2],\n",
       " [3, 2],\n",
       " [4, 2],\n",
       " [4, 2],\n",
       " [5, 2],\n",
       " [3, 3],\n",
       " [4, 3],\n",
       " [4, 3],\n",
       " [5, 3]]"
      ]
     },
     "execution_count": 135,
     "metadata": {},
     "output_type": "execute_result"
    }
   ],
   "source": [
    "scenorios"
   ]
  },
  {
   "cell_type": "code",
   "execution_count": 132,
   "metadata": {},
   "outputs": [
    {
     "data": {
      "text/plain": [
       "3"
      ]
     },
     "execution_count": 132,
     "metadata": {},
     "output_type": "execute_result"
    }
   ],
   "source": [
    "sum(selected_elements)"
   ]
  },
  {
   "cell_type": "code",
   "execution_count": 111,
   "metadata": {},
   "outputs": [
    {
     "data": {
      "text/plain": [
       "[[0, 1, 2, 4, 5], [1, 2, 3]]"
      ]
     },
     "execution_count": 111,
     "metadata": {},
     "output_type": "execute_result"
    }
   ],
   "source": [
    "cashe_element_unrevealed_pos"
   ]
  },
  {
   "cell_type": "code",
   "execution_count": 93,
   "metadata": {},
   "outputs": [
    {
     "data": {
      "text/plain": [
       "[371, 372, 373, 374, 403, 435]"
      ]
     },
     "execution_count": 93,
     "metadata": {},
     "output_type": "execute_result"
    }
   ],
   "source": [
    "unique_nbr_unrevealed_indices"
   ]
  },
  {
   "cell_type": "code",
   "execution_count": 96,
   "metadata": {},
   "outputs": [
    {
     "data": {
      "text/plain": [
       "1"
      ]
     },
     "execution_count": 96,
     "metadata": {},
     "output_type": "execute_result"
    }
   ],
   "source": [
    "unique_nbr_unrevealed_indices.index(372)"
   ]
  },
  {
   "cell_type": "code",
   "execution_count": 84,
   "metadata": {},
   "outputs": [
    {
     "data": {
      "text/plain": [
       "[2.0, 1.0]"
      ]
     },
     "execution_count": 84,
     "metadata": {},
     "output_type": "execute_result"
    }
   ],
   "source": [
    "explosive_tiles_count"
   ]
  },
  {
   "cell_type": "code",
   "execution_count": 76,
   "metadata": {},
   "outputs": [
    {
     "data": {
      "text/plain": [
       "[371, 372, 373, 374, 403, 435]"
      ]
     },
     "execution_count": 76,
     "metadata": {},
     "output_type": "execute_result"
    }
   ],
   "source": [
    "unique_nbr_unrevealed_indices"
   ]
  },
  {
   "cell_type": "code",
   "execution_count": 55,
   "metadata": {},
   "outputs": [
    {
     "data": {
      "text/plain": [
       "[array([371, 372, 373, 403, 435], dtype=int64),\n",
       " array([372, 373, 374], dtype=int64)]"
      ]
     },
     "execution_count": 55,
     "metadata": {},
     "output_type": "execute_result"
    }
   ],
   "source": [
    "cashe_element_unrevealed_tiles"
   ]
  },
  {
   "cell_type": "code",
   "execution_count": 91,
   "metadata": {},
   "outputs": [
    {
     "data": {
      "text/plain": [
       "[(0, 0, 0, 0, 0, 0),\n",
       " (0, 0, 0, 0, 0, 1),\n",
       " (0, 0, 0, 0, 1, 0),\n",
       " (0, 0, 0, 0, 1, 1),\n",
       " (0, 0, 0, 1, 0, 0),\n",
       " (0, 0, 0, 1, 0, 1),\n",
       " (0, 0, 0, 1, 1, 0),\n",
       " (0, 0, 0, 1, 1, 1),\n",
       " (0, 0, 1, 0, 0, 0),\n",
       " (0, 0, 1, 0, 0, 1),\n",
       " (0, 0, 1, 0, 1, 0),\n",
       " (0, 0, 1, 0, 1, 1),\n",
       " (0, 0, 1, 1, 0, 0),\n",
       " (0, 0, 1, 1, 0, 1),\n",
       " (0, 0, 1, 1, 1, 0),\n",
       " (0, 0, 1, 1, 1, 1),\n",
       " (0, 1, 0, 0, 0, 0),\n",
       " (0, 1, 0, 0, 0, 1),\n",
       " (0, 1, 0, 0, 1, 0),\n",
       " (0, 1, 0, 0, 1, 1),\n",
       " (0, 1, 0, 1, 0, 0),\n",
       " (0, 1, 0, 1, 0, 1),\n",
       " (0, 1, 0, 1, 1, 0),\n",
       " (0, 1, 0, 1, 1, 1),\n",
       " (0, 1, 1, 0, 0, 0),\n",
       " (0, 1, 1, 0, 0, 1),\n",
       " (0, 1, 1, 0, 1, 0),\n",
       " (0, 1, 1, 0, 1, 1),\n",
       " (0, 1, 1, 1, 0, 0),\n",
       " (0, 1, 1, 1, 0, 1),\n",
       " (0, 1, 1, 1, 1, 0),\n",
       " (0, 1, 1, 1, 1, 1),\n",
       " (1, 0, 0, 0, 0, 0),\n",
       " (1, 0, 0, 0, 0, 1),\n",
       " (1, 0, 0, 0, 1, 0),\n",
       " (1, 0, 0, 0, 1, 1),\n",
       " (1, 0, 0, 1, 0, 0),\n",
       " (1, 0, 0, 1, 0, 1),\n",
       " (1, 0, 0, 1, 1, 0),\n",
       " (1, 0, 0, 1, 1, 1),\n",
       " (1, 0, 1, 0, 0, 0),\n",
       " (1, 0, 1, 0, 0, 1),\n",
       " (1, 0, 1, 0, 1, 0),\n",
       " (1, 0, 1, 0, 1, 1),\n",
       " (1, 0, 1, 1, 0, 0),\n",
       " (1, 0, 1, 1, 0, 1),\n",
       " (1, 0, 1, 1, 1, 0),\n",
       " (1, 0, 1, 1, 1, 1),\n",
       " (1, 1, 0, 0, 0, 0),\n",
       " (1, 1, 0, 0, 0, 1),\n",
       " (1, 1, 0, 0, 1, 0),\n",
       " (1, 1, 0, 0, 1, 1),\n",
       " (1, 1, 0, 1, 0, 0),\n",
       " (1, 1, 0, 1, 0, 1),\n",
       " (1, 1, 0, 1, 1, 0),\n",
       " (1, 1, 0, 1, 1, 1),\n",
       " (1, 1, 1, 0, 0, 0),\n",
       " (1, 1, 1, 0, 0, 1),\n",
       " (1, 1, 1, 0, 1, 0),\n",
       " (1, 1, 1, 0, 1, 1),\n",
       " (1, 1, 1, 1, 0, 0),\n",
       " (1, 1, 1, 1, 0, 1),\n",
       " (1, 1, 1, 1, 1, 0),\n",
       " (1, 1, 1, 1, 1, 1)]"
      ]
     },
     "execution_count": 91,
     "metadata": {},
     "output_type": "execute_result"
    }
   ],
   "source": [
    "explosive_combinations"
   ]
  },
  {
   "cell_type": "code",
   "execution_count": 43,
   "metadata": {},
   "outputs": [],
   "source": [
    "square = tile_number[height_j-1:height_j+2, width_j-1:width_j+2]"
   ]
  },
  {
   "cell_type": "code",
   "execution_count": 44,
   "metadata": {},
   "outputs": [
    {
     "data": {
      "text/plain": [
       "array([[9., 9., 9.],\n",
       "       [9., 2., 1.],\n",
       "       [9., 1., 0.]])"
      ]
     },
     "execution_count": 44,
     "metadata": {},
     "output_type": "execute_result"
    }
   ],
   "source": [
    "square"
   ]
  },
  {
   "cell_type": "code",
   "execution_count": 50,
   "metadata": {},
   "outputs": [],
   "source": [
    "neighbor_unrevealed_tiles = np.where(square == 9)"
   ]
  },
  {
   "cell_type": "code",
   "execution_count": 48,
   "metadata": {},
   "outputs": [
    {
     "data": {
      "text/plain": [
       "(array([0, 0, 0, 1, 2], dtype=int64), array([0, 1, 2, 0, 0], dtype=int64))"
      ]
     },
     "execution_count": 48,
     "metadata": {},
     "output_type": "execute_result"
    }
   ],
   "source": [
    "neighbor_unrevealed_tiles"
   ]
  },
  {
   "cell_type": "code",
   "execution_count": 51,
   "metadata": {},
   "outputs": [],
   "source": [
    "neighbor_unrevealed_indices = ((neighbor_unrevealed_tiles[0] - 1) * tile_number.shape[1]) + \\\n",
    "                      (neighbor_unrevealed_tiles[1] - 1) + j"
   ]
  },
  {
   "cell_type": "code",
   "execution_count": 52,
   "metadata": {},
   "outputs": [
    {
     "data": {
      "text/plain": [
       "array([371, 372, 373, 403, 435], dtype=int64)"
      ]
     },
     "execution_count": 52,
     "metadata": {},
     "output_type": "execute_result"
    }
   ],
   "source": [
    "neighbor_unrevealed_indices"
   ]
  },
  {
   "cell_type": "code",
   "execution_count": 29,
   "metadata": {},
   "outputs": [
    {
     "data": {
      "text/plain": [
       "[404, 405]"
      ]
     },
     "execution_count": 29,
     "metadata": {},
     "output_type": "execute_result"
    }
   ],
   "source": [
    "target_group"
   ]
  },
  {
   "cell_type": "code",
   "execution_count": 53,
   "metadata": {},
   "outputs": [
    {
     "data": {
      "text/plain": [
       "(18, 32)"
      ]
     },
     "execution_count": 53,
     "metadata": {},
     "output_type": "execute_result"
    }
   ],
   "source": [
    "tile_number.shape"
   ]
  },
  {
   "cell_type": "code",
   "execution_count": 100,
   "metadata": {},
   "outputs": [
    {
     "data": {
      "text/plain": [
       "<itertools.combinations at 0x1e425bdd7c8>"
      ]
     },
     "execution_count": 100,
     "metadata": {},
     "output_type": "execute_result"
    }
   ],
   "source": [
    "itertools.combinations(stuff, L)"
   ]
  },
  {
   "cell_type": "code",
   "execution_count": 90,
   "metadata": {},
   "outputs": [
    {
     "data": {
      "text/plain": [
       "[[265, 266],\n",
       " [266, 267, 268],\n",
       " [267, 268, 269],\n",
       " [269, 270, 271],\n",
       " [261, 293],\n",
       " [272, 304],\n",
       " [293, 325, 357],\n",
       " [304, 336],\n",
       " [336, 367, 399],\n",
       " [389, 421],\n",
       " [399, 431],\n",
       " [421, 422, 487],\n",
       " [487, 519],\n",
       " [494, 526]]"
      ]
     },
     "execution_count": 90,
     "metadata": {},
     "output_type": "execute_result"
    }
   ],
   "source": [
    "linked_groups"
   ]
  },
  {
   "cell_type": "code",
   "execution_count": 59,
   "metadata": {},
   "outputs": [
    {
     "data": {
      "text/plain": [
       "9.0"
      ]
     },
     "execution_count": 59,
     "metadata": {},
     "output_type": "execute_result"
    }
   ],
   "source": [
    "square[0][j]"
   ]
  },
  {
   "cell_type": "code",
   "execution_count": 63,
   "metadata": {},
   "outputs": [
    {
     "name": "stdout",
     "output_type": "stream",
     "text": [
      "2\n",
      "2\n"
     ]
    }
   ],
   "source": [
    "print(neighbor_nbr_tile[0][j])\n",
    "print(neighbor_nbr_tile[1][j])"
   ]
  },
  {
   "cell_type": "code",
   "execution_count": 73,
   "metadata": {},
   "outputs": [
    {
     "name": "stdout",
     "output_type": "stream",
     "text": [
      "7\n",
      "11\n"
     ]
    }
   ],
   "source": [
    "print(unrevealed_tile[0][153])\n",
    "print(unrevealed_tile[1][153])"
   ]
  },
  {
   "cell_type": "code",
   "execution_count": 55,
   "metadata": {},
   "outputs": [
    {
     "data": {
      "text/plain": [
       "9.0"
      ]
     },
     "execution_count": 55,
     "metadata": {},
     "output_type": "execute_result"
    }
   ],
   "source": [
    "tile_number[unrevealed_tile[0][i], unrevealed_tile[1][i]]"
   ]
  },
  {
   "cell_type": "code",
   "execution_count": 69,
   "metadata": {},
   "outputs": [
    {
     "name": "stdout",
     "output_type": "stream",
     "text": [
      "12\n",
      "28\n"
     ]
    }
   ],
   "source": [
    "i = 233\n",
    "print(unrevealed_tile[0][i])\n",
    "print(unrevealed_tile[1][i])"
   ]
  },
  {
   "cell_type": "code",
   "execution_count": 71,
   "metadata": {},
   "outputs": [
    {
     "data": {
      "text/plain": [
       "array([[12.,  9., 12.],\n",
       "       [ 9.,  9., 12.],\n",
       "       [10., 10., 10.]])"
      ]
     },
     "execution_count": 71,
     "metadata": {},
     "output_type": "execute_result"
    }
   ],
   "source": [
    "square"
   ]
  },
  {
   "cell_type": "code",
   "execution_count": 70,
   "metadata": {},
   "outputs": [
    {
     "data": {
      "text/plain": [
       "(array([], dtype=int64), array([], dtype=int64))"
      ]
     },
     "execution_count": 70,
     "metadata": {},
     "output_type": "execute_result"
    }
   ],
   "source": [
    "neighbor_nbr_tile"
   ]
  },
  {
   "cell_type": "code",
   "execution_count": 45,
   "metadata": {},
   "outputs": [
    {
     "data": {
      "text/plain": [
       "[[152, 0],\n",
       " [152, 1],\n",
       " [153, 0],\n",
       " [153, 1],\n",
       " [153, 2],\n",
       " [154, 0],\n",
       " [154, 1],\n",
       " [154, 2],\n",
       " [155, 0],\n",
       " [155, 1],\n",
       " [155, 2],\n",
       " [165, 0],\n",
       " [165, 1],\n",
       " [166, 0],\n",
       " [166, 1],\n",
       " [194, 0],\n",
       " [194, 1],\n",
       " [194, 2],\n",
       " [195, 0],\n",
       " [195, 1],\n",
       " [211, 0],\n",
       " [211, 1],\n",
       " [211, 2],\n",
       " [239, 0],\n",
       " [239, 1],\n",
       " [240, 0],\n",
       " [240, 1],\n",
       " [256, 0],\n",
       " [256, 1],\n",
       " [256, 2],\n",
       " [273, 0],\n",
       " [273, 1],\n",
       " [274, 0],\n",
       " [274, 1]]"
      ]
     },
     "execution_count": 45,
     "metadata": {},
     "output_type": "execute_result"
    }
   ],
   "source": [
    "cashed_list"
   ]
  },
  {
   "cell_type": "code",
   "execution_count": 53,
   "metadata": {},
   "outputs": [
    {
     "data": {
      "text/plain": [
       "32"
      ]
     },
     "execution_count": 53,
     "metadata": {},
     "output_type": "execute_result"
    }
   ],
   "source": [
    "tile_number.shape[1]"
   ]
  },
  {
   "cell_type": "code",
   "execution_count": 29,
   "metadata": {},
   "outputs": [],
   "source": [
    "i = 152\n",
    "square = tile_number[unrevealed_tile[0][i]-1:unrevealed_tile[0][i]+2,\n",
    "                         unrevealed_tile[1][i]-1:unrevealed_tile[1][i]+2\n",
    "                        ]\n"
   ]
  },
  {
   "cell_type": "code",
   "execution_count": 30,
   "metadata": {},
   "outputs": [
    {
     "data": {
      "text/plain": [
       "array([[ 9.,  9.,  9.],\n",
       "       [12.,  9., 12.],\n",
       "       [11.,  3.,  1.]])"
      ]
     },
     "execution_count": 30,
     "metadata": {},
     "output_type": "execute_result"
    }
   ],
   "source": [
    "square"
   ]
  },
  {
   "cell_type": "code",
   "execution_count": 14,
   "metadata": {},
   "outputs": [
    {
     "data": {
      "text/plain": [
       "9"
      ]
     },
     "execution_count": 14,
     "metadata": {},
     "output_type": "execute_result"
    }
   ],
   "source": [
    "len(np.where((square >= 1) & (square <= 8))[0])"
   ]
  },
  {
   "cell_type": "code",
   "execution_count": 22,
   "metadata": {},
   "outputs": [
    {
     "data": {
      "text/plain": [
       "array([[10., 10., 10., 10., 10., 10., 10., 10., 10., 10., 10., 10., 10.,\n",
       "        10., 10., 10., 10., 10., 10., 10., 10., 10., 10., 10., 10., 10.,\n",
       "        10., 10., 10., 10., 10., 10.],\n",
       "       [10.,  9.,  9.,  9.,  9.,  9.,  9.,  9.,  9.,  9.,  9.,  9.,  9.,\n",
       "         9.,  9.,  9.,  9.,  9.,  9.,  9.,  9.,  9.,  9.,  9.,  9.,  9.,\n",
       "         9.,  9.,  9.,  9.,  9., 10.],\n",
       "       [10.,  9.,  9.,  9.,  9.,  9.,  9.,  9.,  9.,  9.,  9.,  9.,  9.,\n",
       "         9.,  9.,  9.,  9.,  9.,  9.,  9.,  9.,  9.,  9.,  9.,  9.,  9.,\n",
       "         9.,  9.,  9.,  9.,  9., 10.],\n",
       "       [10.,  9.,  9.,  9.,  9.,  9.,  9.,  9.,  9.,  9.,  9.,  9.,  9.,\n",
       "         9.,  9.,  9.,  9.,  9.,  9.,  9.,  9.,  9.,  9.,  9.,  9.,  9.,\n",
       "         9.,  9.,  9.,  9.,  9., 10.],\n",
       "       [10.,  9.,  9.,  9.,  9.,  9.,  9.,  9.,  9.,  9.,  9.,  9.,  9.,\n",
       "         9.,  9.,  9.,  9.,  9.,  9.,  9.,  9.,  9.,  9.,  9.,  9.,  9.,\n",
       "         9.,  9.,  9.,  9.,  9., 10.],\n",
       "       [10.,  9.,  9.,  2.,  2.,  3.,  9.,  9.,  9.,  9.,  9.,  9.,  9.,\n",
       "         9.,  9.,  2.,  9.,  9.,  9.,  9.,  9.,  9.,  9.,  9.,  9.,  9.,\n",
       "         9.,  9.,  9.,  9.,  9., 10.],\n",
       "       [10.,  1.,  1.,  1.,  0.,  2.,  9.,  9.,  9.,  9.,  9.,  9.,  9.,\n",
       "         9.,  9.,  9.,  9.,  9.,  9.,  9.,  9.,  9.,  9.,  9.,  9.,  9.,\n",
       "         9.,  9.,  9.,  9.,  9., 10.],\n",
       "       [10.,  0.,  0.,  0.,  0.,  2.,  9.,  3.,  1.,  2.,  9.,  9.,  9.,\n",
       "         9.,  9.,  9.,  9.,  9.,  9.,  9.,  9.,  9.,  9.,  9.,  9.,  9.,\n",
       "         9.,  9.,  9.,  9.,  9., 10.],\n",
       "       [10.,  0.,  0.,  0.,  0.,  1.,  9.,  1.,  0.,  1.,  9.,  9.,  9.,\n",
       "         9.,  9.,  9.,  9.,  9.,  9.,  9.,  9.,  9.,  9.,  9.,  9.,  9.,\n",
       "         9.,  9.,  9.,  9.,  9., 10.],\n",
       "       [10.,  1.,  1.,  0.,  0.,  1.,  1.,  1.,  0.,  1.,  9.,  9.,  9.,\n",
       "         9.,  9.,  9.,  9.,  9.,  9.,  9.,  9.,  9.,  9.,  9.,  9.,  9.,\n",
       "         9.,  9.,  9.,  9.,  9., 10.],\n",
       "       [10.,  9.,  3.,  2.,  1.,  0.,  0.,  0.,  1.,  2.,  9.,  9.,  9.,\n",
       "         9.,  9.,  9.,  9.,  9.,  9.,  9.,  9.,  9.,  2.,  9.,  9.,  9.,\n",
       "         9.,  9.,  9.,  9.,  9., 10.],\n",
       "       [10.,  9.,  9.,  9.,  1.,  0.,  0.,  0.,  1.,  9.,  9.,  9.,  9.,\n",
       "         9.,  9.,  9.,  9.,  9.,  9.,  9.,  9.,  9.,  9.,  9.,  9.,  9.,\n",
       "         9.,  9.,  9.,  9.,  9., 10.],\n",
       "       [10.,  9.,  9.,  9.,  3.,  2.,  1.,  0.,  1.,  9.,  9.,  9.,  9.,\n",
       "         9.,  9.,  9.,  9.,  9.,  9.,  9.,  9.,  9.,  9.,  9.,  9.,  9.,\n",
       "         9.,  9.,  9.,  9.,  9., 10.],\n",
       "       [10.,  9.,  9.,  9.,  9.,  9.,  2.,  2.,  1.,  9.,  3.,  9.,  9.,\n",
       "         9.,  9.,  9.,  9.,  9.,  9.,  9.,  9.,  9.,  9.,  9.,  9.,  9.,\n",
       "         9.,  9.,  9.,  9.,  9., 10.],\n",
       "       [10.,  9.,  9.,  9.,  9.,  9.,  9.,  9.,  9.,  9.,  9.,  9.,  9.,\n",
       "         9.,  9.,  9.,  9.,  9.,  9.,  9.,  9.,  9.,  9.,  9.,  9.,  9.,\n",
       "         9.,  9.,  9.,  9.,  9., 10.],\n",
       "       [10.,  9.,  9.,  9.,  9.,  9.,  9.,  9.,  9.,  9.,  9.,  9.,  9.,\n",
       "         9.,  9.,  9.,  9.,  9.,  9.,  9.,  9.,  9.,  9.,  9.,  9.,  9.,\n",
       "         9.,  9.,  9.,  9.,  9., 10.],\n",
       "       [10.,  9.,  9.,  9.,  9.,  9.,  9.,  9.,  9.,  9.,  9.,  9.,  9.,\n",
       "         9.,  9.,  9.,  9.,  9.,  9.,  9.,  9.,  9.,  9.,  9.,  9.,  9.,\n",
       "         9.,  9.,  9.,  9.,  9., 10.],\n",
       "       [10., 10., 10., 10., 10., 10., 10., 10., 10., 10., 10., 10., 10.,\n",
       "        10., 10., 10., 10., 10., 10., 10., 10., 10., 10., 10., 10., 10.,\n",
       "        10., 10., 10., 10., 10., 10.]])"
      ]
     },
     "execution_count": 22,
     "metadata": {},
     "output_type": "execute_result"
    }
   ],
   "source": [
    "tile_number"
   ]
  },
  {
   "cell_type": "code",
   "execution_count": 21,
   "metadata": {},
   "outputs": [
    {
     "data": {
      "text/plain": [
       "9.0"
      ]
     },
     "execution_count": 21,
     "metadata": {},
     "output_type": "execute_result"
    }
   ],
   "source": [
    "tile_number[unrevealed_tile[0][92], unrevealed_tile[1][92]]"
   ]
  },
  {
   "cell_type": "code",
   "execution_count": 18,
   "metadata": {},
   "outputs": [
    {
     "data": {
      "text/plain": [
       "3"
      ]
     },
     "execution_count": 18,
     "metadata": {},
     "output_type": "execute_result"
    }
   ],
   "source": [
    "unrevealed_tile[1][92]"
   ]
  },
  {
   "cell_type": "code",
   "execution_count": 19,
   "metadata": {},
   "outputs": [
    {
     "data": {
      "text/plain": [
       "(array([ 1,  1,  1,  1,  1,  1,  1,  1,  1,  1,  1,  1,  1,  1,  1,  1,  1,\n",
       "         1,  1,  1,  1,  1,  1,  1,  1,  1,  1,  1,  1,  1,  2,  2,  2,  2,\n",
       "         2,  2,  2,  2,  2,  2,  2,  2,  2,  2,  2,  2,  2,  2,  2,  2,  2,\n",
       "         2,  2,  2,  2,  2,  2,  2,  2,  2,  3,  3,  3,  3,  3,  3,  3,  3,\n",
       "         3,  3,  3,  3,  3,  3,  3,  3,  3,  3,  3,  3,  3,  3,  3,  3,  3,\n",
       "         3,  3,  3,  3,  3,  4,  4,  4,  4,  4,  4,  4,  4,  4,  4,  4,  4,\n",
       "         4,  4,  4,  4,  4,  4,  4,  4,  4,  4,  4,  4,  4,  4,  4,  4,  4,\n",
       "         4,  5,  5,  5,  5,  5,  5,  5,  5,  5,  5,  5,  5,  5,  5,  5,  5,\n",
       "         5,  5,  5,  5,  5,  5,  5,  5,  5,  5,  6,  6,  6,  6,  6,  6,  6,\n",
       "         6,  6,  6,  6,  6,  6,  6,  6,  6,  6,  6,  6,  6,  6,  6,  6,  6,\n",
       "         6,  7,  7,  7,  7,  7,  7,  7,  7,  7,  7,  7,  7,  7,  7,  7,  7,\n",
       "         7,  7,  7,  7,  7,  7,  8,  8,  8,  8,  8,  8,  8,  8,  8,  8,  8,\n",
       "         8,  8,  8,  8,  8,  8,  8,  8,  8,  8,  8,  9,  9,  9,  9,  9,  9,\n",
       "         9,  9,  9,  9,  9,  9,  9,  9,  9,  9,  9,  9,  9,  9,  9, 10, 10,\n",
       "        10, 10, 10, 10, 10, 10, 10, 10, 10, 10, 10, 10, 10, 10, 10, 10, 10,\n",
       "        10, 10, 11, 11, 11, 11, 11, 11, 11, 11, 11, 11, 11, 11, 11, 11, 11,\n",
       "        11, 11, 11, 11, 11, 11, 11, 11, 11, 11, 12, 12, 12, 12, 12, 12, 12,\n",
       "        12, 12, 12, 12, 12, 12, 12, 12, 12, 12, 12, 12, 12, 12, 12, 12, 12,\n",
       "        12, 13, 13, 13, 13, 13, 13, 13, 13, 13, 13, 13, 13, 13, 13, 13, 13,\n",
       "        13, 13, 13, 13, 13, 13, 13, 13, 13, 13, 14, 14, 14, 14, 14, 14, 14,\n",
       "        14, 14, 14, 14, 14, 14, 14, 14, 14, 14, 14, 14, 14, 14, 14, 14, 14,\n",
       "        14, 14, 14, 14, 14, 14, 15, 15, 15, 15, 15, 15, 15, 15, 15, 15, 15,\n",
       "        15, 15, 15, 15, 15, 15, 15, 15, 15, 15, 15, 15, 15, 15, 15, 15, 15,\n",
       "        15, 15, 16, 16, 16, 16, 16, 16, 16, 16, 16, 16, 16, 16, 16, 16, 16,\n",
       "        16, 16, 16, 16, 16, 16, 16, 16, 16, 16, 16, 16, 16, 16, 16],\n",
       "       dtype=int64),\n",
       " array([ 1,  2,  3,  4,  5,  6,  7,  8,  9, 10, 11, 12, 13, 14, 15, 16, 17,\n",
       "        18, 19, 20, 21, 22, 23, 24, 25, 26, 27, 28, 29, 30,  1,  2,  3,  4,\n",
       "         5,  6,  7,  8,  9, 10, 11, 12, 13, 14, 15, 16, 17, 18, 19, 20, 21,\n",
       "        22, 23, 24, 25, 26, 27, 28, 29, 30,  1,  2,  3,  4,  5,  6,  7,  8,\n",
       "         9, 10, 11, 12, 13, 14, 15, 16, 17, 18, 19, 20, 21, 22, 23, 24, 25,\n",
       "        26, 27, 28, 29, 30,  1,  2,  3,  4,  5,  6,  7,  8,  9, 10, 11, 12,\n",
       "        13, 14, 15, 16, 17, 18, 19, 20, 21, 22, 23, 24, 25, 26, 27, 28, 29,\n",
       "        30,  1,  2,  6,  7,  8,  9, 10, 11, 12, 13, 14, 16, 17, 18, 19, 20,\n",
       "        21, 22, 23, 24, 25, 26, 27, 28, 29, 30,  6,  7,  8,  9, 10, 11, 12,\n",
       "        13, 14, 15, 16, 17, 18, 19, 20, 21, 22, 23, 24, 25, 26, 27, 28, 29,\n",
       "        30,  6, 10, 11, 12, 13, 14, 15, 16, 17, 18, 19, 20, 21, 22, 23, 24,\n",
       "        25, 26, 27, 28, 29, 30,  6, 10, 11, 12, 13, 14, 15, 16, 17, 18, 19,\n",
       "        20, 21, 22, 23, 24, 25, 26, 27, 28, 29, 30, 10, 11, 12, 13, 14, 15,\n",
       "        16, 17, 18, 19, 20, 21, 22, 23, 24, 25, 26, 27, 28, 29, 30,  1, 10,\n",
       "        11, 12, 13, 14, 15, 16, 17, 18, 19, 20, 21, 23, 24, 25, 26, 27, 28,\n",
       "        29, 30,  1,  2,  3,  9, 10, 11, 12, 13, 14, 15, 16, 17, 18, 19, 20,\n",
       "        21, 22, 23, 24, 25, 26, 27, 28, 29, 30,  1,  2,  3,  9, 10, 11, 12,\n",
       "        13, 14, 15, 16, 17, 18, 19, 20, 21, 22, 23, 24, 25, 26, 27, 28, 29,\n",
       "        30,  1,  2,  3,  4,  5,  9, 11, 12, 13, 14, 15, 16, 17, 18, 19, 20,\n",
       "        21, 22, 23, 24, 25, 26, 27, 28, 29, 30,  1,  2,  3,  4,  5,  6,  7,\n",
       "         8,  9, 10, 11, 12, 13, 14, 15, 16, 17, 18, 19, 20, 21, 22, 23, 24,\n",
       "        25, 26, 27, 28, 29, 30,  1,  2,  3,  4,  5,  6,  7,  8,  9, 10, 11,\n",
       "        12, 13, 14, 15, 16, 17, 18, 19, 20, 21, 22, 23, 24, 25, 26, 27, 28,\n",
       "        29, 30,  1,  2,  3,  4,  5,  6,  7,  8,  9, 10, 11, 12, 13, 14, 15,\n",
       "        16, 17, 18, 19, 20, 21, 22, 23, 24, 25, 26, 27, 28, 29, 30],\n",
       "       dtype=int64))"
      ]
     },
     "execution_count": 19,
     "metadata": {},
     "output_type": "execute_result"
    }
   ],
   "source": [
    "unrevealed_tile"
   ]
  },
  {
   "cell_type": "code",
   "execution_count": null,
   "metadata": {},
   "outputs": [],
   "source": []
  }
 ],
 "metadata": {
  "kernelspec": {
   "display_name": "Python 3",
   "language": "python",
   "name": "python3"
  },
  "language_info": {
   "codemirror_mode": {
    "name": "ipython",
    "version": 3
   },
   "file_extension": ".py",
   "mimetype": "text/x-python",
   "name": "python",
   "nbconvert_exporter": "python",
   "pygments_lexer": "ipython3",
   "version": "3.7.7"
  }
 },
 "nbformat": 4,
 "nbformat_minor": 4
}
